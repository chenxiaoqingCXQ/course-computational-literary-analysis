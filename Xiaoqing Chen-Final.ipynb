{
 "cells": [
  {
   "cell_type": "markdown",
   "metadata": {},
   "source": [
    "# The benefit of a \"Frenemy\"：An Exploration of How Virginia Woolf’s Writings Got Influenced By Katherine Mansfield From 1917 To 1923\n",
    "\n",
    "## Xiaoqing Chen\n",
    "\n",
    "Instructions: \n",
    "\n",
    "1. Replace \"yourname\" in the title of this notebook, and \"your name here\" in the markdown above, with your name.\n",
    "2. Create a title for your final project. Preferably, this should indicate what your argument is. Replace \"your title here\" in the markdown above with your title.\n",
    "3. Write your paper, and include everything (your prose in Markdown, your code, and your figures) in this notebook. Don't include the texts you're analyzing. If you generated your corpus programmatically (i.e. using corpus-db.org or some fancy Python), maybe you'll want to include that in the code somewhere here. Your notebook file (`.ipynb`) will be the only thing you turn in.  \n",
    "3. Annotate your code using markdown cells, and/or comment lines (lines beginning with `#`), explaining why you're doing what you're doing. If one of your functions takes certain parameters, for instance, why did you choose those parameters? \n",
    "3. Prune your notebook of unnecessary or redundant code. Run all your code again, to show that it works as-is. Each code cell should have a number in it, and an output, if applicable. \n",
    "4. Proofread well! If English is not your first language, you might consider making an appointment with [the Writing Center](https://slc.berkeley.edu/appointment-service) to get help polishing the language of your paper. At minimum, you'll want to use a spell checker and maybe even an automatic grammar-checking service like [Grammerly](https://www.grammarly.com/). (Of course, you now have the tools to analyze your own writing, if you want. You can get your markdown text into Python by adapting the word count function below, and use it to analyze your most frequent n-grams!) You might also consider organizing a mutual editing session with classmates.\n",
    "4. Ensure that you have no more than three plots (figures). One figure with several subplots is OK, and counts as one figure.\n",
    "4. If you quote from or reference literary works, or works of criticirm, provide in-text parenthetical citations. Then create a bibliographic entry for each work you cite, and include them at the end. Unless your discipline requires a different format, use [MLA Style](https://style.mla.org/) as the format for your bibliography, and title it \"works cited.\" \n",
    "4. Replace the value of the `filename` variable in the wordcount cell below to the name your file. (E.g., `Jonathan-Final.ipynb`.) Then run the wordcount cell. Ensure that your paper is between 1000 and 2000 words, so it doesn't give you any errors or warnings.  \n",
    "5. Optionally, and for a 5% bonus, add your notebook to the `/Projects` directory of the course repository, and submit it as a pull request. Your project will then become public. \n",
    "6. Email me your `.ipynb` file: jonathan.reeve@columbia.edu. Please email me only your `.ipynb` file, alone and uncompressed. Please don't respond to an existing email, but create a new email, with the subject: `Yourname: Final Project`, replacing `yourname` with your name. Do this regardless of whether you also submit a pull request. \n",
    "7. Celebrate! You've finished your final project, and gloriously completed _Introduction to Computational Literary Analysis_!"
   ]
  },
  {
   "cell_type": "markdown",
   "metadata": {},
   "source": [
    "# Content\n",
    "\n",
    "### Argument\n",
    "This project explores how Virginia Woolf’s writing style got influenced by Katherine Mansfield from 1917 to 1923, the period of greatest interchange between the two writers, using computational analysis. I argue that Virginia Woolf's writings did get influenced by Katherine Mansfield, such as in the stylometry and the usage of sentimental words, and Virginia Woolf’s writing style was getting much more concise and clear under the influence of Katherine Mansfield during this time, such as the less use of punctuation marks that with emotion and the shorter length of sentence.\n",
    "\n",
    "### Introduction\n",
    "\n",
    "Virginia Woolf and Katherine Mansfield shared an Artistically intimate friendship from 1917 until Mansfield’s death in 1923. Woolf first met Mansfield in 1916, but 1917 is the year they had a formal interchange on literature because Mansfield's short story Prelude was planned to be published in 1917 by Hogarth Press, set up by Virginia Woolf and her husband. After that, they kept the relationship moving. During this relatively brief but inspirational period, they not only frequently exchanged views on their writings but also shared their opinions on life, the society and many things that they both concerned. However, they were close friends but also rivals because Woolf once showed her jealous of Mansfield in her journal, and so did Mansfield.Although they once gave the bitterest criticism on the other's works but they finally got benefits from it.For example, Mansfield's poor comment on Woolf's _Night and Day_ in 1919 helped Woolf to forge her writing style as the Modernist style(Midorikawa & Sweeney).\n",
    "\n",
    "\n",
    "### How did I get my argument by computational analysis:\n",
    "\n",
    "Their relationship interests me a lot. But I raised these questions: would this friendship mirror their writings? If their friendship did influence their writings, would it be a unilateral effect or a mutual effect? And how did it manifest in their writings?\n",
    "\n",
    "So I made my first hypothesis: _Virginia Woolf’s and Katherine Mansfield's writings existed mutual influences during the period of their greatest interchange between each other_. I tested it by stylometry analysis and sentimental analysis. Based on a comparative stylometry analysis of Virginia Woolf's stories and Katherine Mansfield's stories, the results told me that only Virginia Woolf's stylometry has a tendency of approaching Mansfield's but the inverse is not that obvious, and Mansfield's stylometry seems less and less like Woolf's stylometry style. Also the result of sentimental analysis also somehow shows me that the influence on Virginia Woolf's writings is more prominent than that on Katherine Mansfield's, which proves that my hypothesis 1 is wrong. Here helps me to make my first argument:_Virginia Woolf's writings did get influenced by Katherine Mansfield from 1917 to 1923, such in the stylometry and the usage of sentimental words_.\n",
    "\n",
    "Then I intended to figure further how Virginia Woolf’s writing got influenced by Katherine Mansfield by doing a close reading and some close analysis on the most commonly used words in specific pos and the proportion of usage of different POS. First, I tried to see the most commonly used nouns to find out the similarity between Jacob's Room and Katherine Mansfield's works. Here I used NN(nouns) to check because the most frequently used nouns can somehow show the topic of the text. The result indicates that those nouns in Woolf's works during 1917-1925 are similar to those in Mansfield's works. So maybe the topic in Woolf's works was getting more similar to Mansfield's. I guess this might owe to their good friendship. And from the result of the proportion of usage of different POS, the proportion of NN(nouns) in Virginia Woolf's novels has a downward trend, but the percentage of “full stop” has a rising trend, which probably means the less use of “question mark” and “exclamation mark” . From these results, I made my second hypothesis: _Virginia Woolf’s writing style was getting much more concise and clear under the influence of Katherine Mansfield from 1917 to 1923._\n",
    "\n",
    "I tried to compare the amounts of “question mark” and “exclamation mark” in Night and Day in 1919 and Jacob's room in 1922. It shows that those in Jacob's room are much less than those in Night and Day just like what I suspected. I was also interested in the sentence length, which might represent the degree of conciseness in writings. So I compared those average sentence length in Woolf's works, and it shows that they also have a downward trend, which means sentences were getting shorter and much concise. Here helps me to make my first argument: _Virginia Woolf’s writing style was getting much more concise and clear under the influence of Katherine Mansfield during this time, such as the less use of punctuation marks that with emotion and the shorter length of sentence_.\n",
    "\n",
    "### Conclusion\n",
    "\n",
    "Literary works brought friendship to Virginia Woolf and Katherine Mansfield, and their friendship also brought benefits to their literary works, especially to Virginia Woolf. During the time they shared great interchange from 1917 to 1923, Virginia Woolf's writing style had a tendency of approaching Katherine Mansfield's and gradually processed a much syntactically succinct style in her writings. I think in a certain degree this exploration can help people to get a further study on the formation of Virginia Woolf's writing style as a modernist and also to see if Katherine Mansfield had a contribution to the development of modernist writing style at that time ."
   ]
  },
  {
   "cell_type": "markdown",
   "metadata": {},
   "source": [
    "# Experiment\n",
    "## hypothesis 1：\n",
    "###  Virginia Woolf’s and Katherine Mansfield's writings existed mutual influences during the period of their greatest interchange between each other.\n",
    "\n"
   ]
  },
  {
   "cell_type": "code",
   "execution_count": 2,
   "metadata": {},
   "outputs": [],
   "source": [
    "# Import all your libraries here, and only here, please.\n",
    "\n",
    "# Don't remove this line. It's necessary for the wordcount function \n",
    "# below to work. \n",
    "from IPython.nbformat import current\n",
    "\n",
    "import nltk\n",
    "from collections import Counter\n",
    "from nltk import word_tokenize, pos_tag,ngrams,sent_tokenize\n",
    "from sklearn.feature_extraction.text import TfidfVectorizer\n",
    "from sklearn.decomposition import PCA\n",
    "from textblob import TextBlob\n",
    "from matplotlib import pyplot as plt\n",
    "import pandas as pd\n",
    "\n",
    "# This is to make your plots a little bigger.\n",
    "# You may adjust this, but be careful of making your plots too big or too small.\n",
    "import matplotlib.pyplot as plt\n",
    "plt.rcParams['figure.figsize'] = [10, 6]"
   ]
  },
  {
   "cell_type": "code",
   "execution_count": 4,
   "metadata": {},
   "outputs": [],
   "source": [
    "voyageW1915=open('the-voyage-out.md').read()\n",
    "nightW1919=open('night-and-day.md').read()\n",
    "mondayW1921=open('manday-and-tuesday.md').read()\n",
    "jacobW1922=open('jacab-s-room.md').read()\n",
    "\n",
    "germanM1911=open('in-a-german-pension.md').read()\n",
    "blissM1920=open('bliss.md').read()\n",
    "gardenM1922=open('garden-party.md').read()"
   ]
  },
  {
   "cell_type": "markdown",
   "metadata": {},
   "source": [
    "Here I mostly chose works that were published during 1917-1923 but also chose the works that were not published during this time but with a close time, such as _The Voyage Out_ in 1915 and _In a german pension_ in 1911, because I wanted to use this method to see if a writer's writing style had a tendency of approaching the other writer's writing style before they met each other in order to test whether the time I set in my hypothesis is precise or not."
   ]
  },
  {
   "cell_type": "code",
   "execution_count": 41,
   "metadata": {},
   "outputs": [],
   "source": [
    "WoolfNovels=[nightW1919,mondayW1921,jacobW1922,voyageW1915]\n",
    "MansfieldNovels=[germanM1911,blissM1920,gardenM1922,]"
   ]
  },
  {
   "cell_type": "markdown",
   "metadata": {},
   "source": [
    "### A Comparative Stylometry of Virginia Woolf's Stories and Katherine Mansfield's Stories"
   ]
  },
  {
   "cell_type": "code",
   "execution_count": 6,
   "metadata": {},
   "outputs": [],
   "source": [
    "pca = PCA(n_components=2)"
   ]
  },
  {
   "cell_type": "code",
   "execution_count": 7,
   "metadata": {},
   "outputs": [],
   "source": [
    "MansfieldLabels = ['In a German Pension1911(Mansfield)','Bliss1920(Mansfield)','The Garden Party1922(Mansfield)']\n",
    "WoolfLabels = ['Night and Day1919(Woolf)','Monday or Tuesday1921(Woolf)','Jacobs Room1922(Woolf)','The Voyage Out1915(Woolf)']"
   ]
  },
  {
   "cell_type": "code",
   "execution_count": 8,
   "metadata": {},
   "outputs": [],
   "source": [
    "tfidf = TfidfVectorizer(use_idf=False, max_features=100)\n",
    "tfTable = tfidf.fit_transform(WoolfNovels + MansfieldNovels).todense()\n",
    "pcaOut = pca.fit_transform(tfTable)\n",
    "allLabels = WoolfLabels + MansfieldLabels"
   ]
  },
  {
   "cell_type": "code",
   "execution_count": 9,
   "metadata": {},
   "outputs": [
    {
     "data": {
      "image/png": "[encoded data removed]",
      "text/plain": [
       "<Figure size 720x432 with 1 Axes>"
      ]
     },
     "metadata": {},
     "output_type": "display_data"
    }
   ],
   "source": [
    "xs, ys = pcaOut[:,0], pcaOut[:,1]\n",
    "for i in range(len(xs)): \n",
    "    plt.scatter(xs[i], ys[i])\n",
    "    plt.annotate(allLabels[i], (xs[i], ys[i]))"
   ]
  },
  {
   "cell_type": "markdown",
   "metadata": {},
   "source": [
    "Interestingly, the result shows that the stylometry of _Jacob's Room_ in 1922 and the stylometry of _Monday or Tuesday_ in 1921 by Virginia Woolf both have a tendency of approaching Mansfield's stylometry. And _Jacob'sRoom_ in 1922 is the one that has the most similar stylometry to Mansfield's work. However, from this result, the strangest thing is that the stylometry of _Night and Day_ in 1919 is so different from Mansfield's stylometry. Also, it seems that only Virginia Woolf's stylometry has a tendency of approaching Mansfield's but the inverse is not true and Mansfield's stylometry seems less and less like Woolf's stylometry style.\n",
    "\n",
    "I went to read some materials about letters between Woolf and Mansfield from 1917 to 1923. And I found that during the time of writing _Jacob's Room_,Woolf wrote many letters to Mansfield with the content of she trying to compare their works together and also showed her appreciation to Mansfield and she also talks about the genesis of her own short story to Mansfield. I guess during this time Virginia Woolf might unconsciously or might be intentionally trying to learn from Mansfield's writing. I also went to search for information about _Night and Day_, everything came clear at the time when I read that Mansfield gave a poor comment on _Night and Day_.\n",
    "\n",
    "So the result of the chart seems to be kind of reasonable and convinced me that their friendship to a certain degree influenced their writings, especially on Virginia Woolf's writings."
   ]
  },
  {
   "cell_type": "markdown",
   "metadata": {},
   "source": [
    "### Sentimental Analysis"
   ]
  },
  {
   "cell_type": "code",
   "execution_count": 10,
   "metadata": {},
   "outputs": [],
   "source": [
    "WandMStories = [voyageW1915,nightW1919, mondayW1921, jacobW1922,germanM1911,blissM1920,gardenM1922]"
   ]
  },
  {
   "cell_type": "code",
   "execution_count": 11,
   "metadata": {},
   "outputs": [],
   "source": [
    "WandMBlobs = [TextBlob(text).sentiment\n",
    "            for text in WandMStories]"
   ]
  },
  {
   "cell_type": "code",
   "execution_count": 12,
   "metadata": {},
   "outputs": [],
   "source": [
    "WandMSentiments = [item.polarity\n",
    "                 for item in WandMBlobs]"
   ]
  },
  {
   "cell_type": "code",
   "execution_count": 13,
   "metadata": {},
   "outputs": [
    {
     "data": {
      "text/plain": [
       "<matplotlib.axes._subplots.AxesSubplot at 0x10bf0a860>"
      ]
     },
     "execution_count": 13,
     "metadata": {},
     "output_type": "execute_result"
    },
    {
     "data": {
      "image/png": "[encoded data removed]",
      "text/plain": [
       "<Figure size 720x432 with 1 Axes>"
      ]
     },
     "metadata": {},
     "output_type": "display_data"
    }
   ],
   "source": [
    "pd.Series(WandMSentiments, index=['voyageW1915','nightW1919',  'mondayW1921', 'jacobW1922',\n",
    "                                 'germanM1911','blissM1920','gardenM1922']).plot(kind='bar')"
   ]
  },
  {
   "cell_type": "markdown",
   "metadata": {},
   "source": [
    "The sentimental analysis shows that the sentiment in Mansfield's work is much lower than Woolf's before they met (comparing _voyageW1915_ and _germanM1911_). However, from 1917 to 1923, the sentiment in Woolf's works had a downward trend and so did Mansfield. Interestingly, the sentiment in _nightW1919_ , which was the one got poor comment from Mansfield, is the highest.This might suggest that their relationship somehow influence their usage of  sentimental words in their writing and especially on Virginia Woolf's. "
   ]
  },
  {
   "cell_type": "markdown",
   "metadata": {},
   "source": [
    "Also, together with some background knowledges of those letters they sent to each other, this result can somehow prove that my hypothesis 1 is kind of wrong, because they probably didn't have obviously mutual influence on each other but Virginia Woolf’s Writing did get Influenced By Katherine Mansfield."
   ]
  },
  {
   "cell_type": "markdown",
   "metadata": {},
   "source": [
    "### The most frequently used words in specific pos"
   ]
  },
  {
   "cell_type": "markdown",
   "metadata": {},
   "source": [
    "So if the effect is unilateral, I decide to see how Virginia Woolf’s writing got influenced by Katherine Mansfield."
   ]
  },
  {
   "cell_type": "code",
   "execution_count": 14,
   "metadata": {},
   "outputs": [],
   "source": [
    "voyageWTokens=word_tokenize(voyageW1915)\n",
    "nightWTokens=word_tokenize(nightW1919)\n",
    "mondayWTokens=word_tokenize(mondayW1921)\n",
    "jacobWTokens=word_tokenize(jacobW1922)\n",
    "\n",
    "germanMTokens=word_tokenize(germanM1911)\n",
    "blissMTokens=word_tokenize(blissM1920)\n",
    "gardenMTokens=word_tokenize(gardenM1922)\n",
    "\n",
    "WoolfTokens=word_tokenize(nightW1919+mondayW1921+jacobW1922)\n",
    "MansfieldTokens=word_tokenize(germanM1911+blissM1920+gardenM1922)"
   ]
  },
  {
   "cell_type": "code",
   "execution_count": 15,
   "metadata": {},
   "outputs": [],
   "source": [
    "voyageWPOS=pos_tag(voyageWTokens)\n",
    "nightWPOS=pos_tag(nightWTokens)\n",
    "mondayWPOS=pos_tag(mondayWTokens)\n",
    "jacobWPOS=pos_tag(jacobWTokens)\n",
    "\n",
    "germanMPOS=pos_tag(germanMTokens)\n",
    "blissMPOS=pos_tag(blissMTokens)\n",
    "gardenMPOS=pos_tag(gardenMTokens)\n",
    "\n",
    "WoolfPOS=pos_tag(WoolfTokens)\n",
    "MansfieldPOS=pos_tag(MansfieldTokens)\n",
    "\n",
    "nightWpos = [pair[1] for pair in nightWPOS]\n",
    "mondayWpos = [pair[1] for pair in mondayWPOS]\n",
    "jacobWpos = [pair[1] for pair in jacobWPOS]\n",
    "\n",
    "germanMpos = [pair[1] for pair in germanMPOS]\n",
    "blissMpos = [pair[1] for pair in blissMPOS]\n",
    "gardenMpos = [pair[1] for pair in gardenMPOS]\n",
    "\n",
    "Woolfpos = [pair[1] for pair in WoolfPOS]\n",
    "Mansfieldpos = [pair[1] for pair in MansfieldPOS]"
   ]
  },
  {
   "cell_type": "code",
   "execution_count": 16,
   "metadata": {},
   "outputs": [],
   "source": [
    "nightWposCounts=Counter(nightWpos)\n",
    "mondayWposCounts=Counter(mondayWpos)\n",
    "jacobWposCounts=Counter(jacobWpos)\n",
    "\n",
    "germanMposCounts=Counter(germanMpos)\n",
    "blissMposCounts=Counter(blissMpos)\n",
    "gardenMposCounts=Counter(gardenMpos)\n",
    "\n",
    "WoolfposCounts=Counter(Woolfpos)\n",
    "MansfieldposCounts=Counter(Mansfieldpos)"
   ]
  },
  {
   "cell_type": "markdown",
   "metadata": {},
   "source": [
    "First, I tried to use the most commonly used words in particular pos to find out the similarity between Jacob's Room and Katherine Mansfield's works. I used NN(nouns) to check because the most frequently used nouns can somehow show the topic of the text."
   ]
  },
  {
   "cell_type": "code",
   "execution_count": 17,
   "metadata": {},
   "outputs": [],
   "source": [
    "def getNN(taggedText): \n",
    "    nouns = []\n",
    "    for pair in taggedText: \n",
    "        word = pair[0]\n",
    "        pos = pair[1]\n",
    "        if pos == 'NN': \n",
    "            nouns.append(word)\n",
    "    return nouns"
   ]
  },
  {
   "cell_type": "code",
   "execution_count": 19,
   "metadata": {},
   "outputs": [],
   "source": [
    "jacobNN = getNN(jacobWPOS)\n",
    "MansfieldNN = getNN(MansfieldPOS)\n",
    "WoolfNN = getNN(WoolfPOS)\n",
    "TheVoyageOutNN = getNN(voyageWPOS)"
   ]
  },
  {
   "cell_type": "code",
   "execution_count": 20,
   "metadata": {},
   "outputs": [
    {
     "data": {
      "text/plain": [
       "[('“', 1052),\n",
       " ('t', 574),\n",
       " ('”', 470),\n",
       " ('s', 414),\n",
       " ('time', 400),\n",
       " ('way', 347),\n",
       " ('something', 326),\n",
       " ('room', 319),\n",
       " ('life', 304),\n",
       " ('man', 290),\n",
       " ('moment', 288),\n",
       " ('mind', 286),\n",
       " ('hand', 245),\n",
       " ('door', 240),\n",
       " ('’', 231),\n",
       " ('nothing', 223),\n",
       " ('head', 222),\n",
       " ('work', 214),\n",
       " ('mother', 206),\n",
       " ('world', 187)]"
      ]
     },
     "execution_count": 20,
     "metadata": {},
     "output_type": "execute_result"
    }
   ],
   "source": [
    "Counter(WoolfNN).most_common(20)"
   ]
  },
  {
   "cell_type": "code",
   "execution_count": 21,
   "metadata": {},
   "outputs": [
    {
     "data": {
      "text/plain": [
       "[('“', 296),\n",
       " ('”', 277),\n",
       " ('time', 275),\n",
       " ('man', 251),\n",
       " ('head', 210),\n",
       " ('door', 210),\n",
       " ('hand', 206),\n",
       " ('way', 197),\n",
       " ('moment', 194),\n",
       " ('something', 183),\n",
       " ('voice', 162),\n",
       " ('room', 158),\n",
       " ('day', 134),\n",
       " ('table', 132),\n",
       " ('mother', 132),\n",
       " ('course', 129),\n",
       " ('woman', 126),\n",
       " ('house', 125),\n",
       " ('hair', 123),\n",
       " ('side', 121)]"
      ]
     },
     "execution_count": 21,
     "metadata": {},
     "output_type": "execute_result"
    }
   ],
   "source": [
    "Counter(MansfieldNN).most_common(20)"
   ]
  },
  {
   "cell_type": "markdown",
   "metadata": {},
   "source": [
    "Here we can see that those nouns in Woolf's works during 1917-1925 are similar to those in Mansfield's works. \n",
    " So, next, I try to figure out the most frequently used nouns in The Voyage Out, which represents Woolf's writing style before she met Mansfield."
   ]
  },
  {
   "cell_type": "code",
   "execution_count": 22,
   "metadata": {},
   "outputs": [
    {
     "data": {
      "text/plain": [
       "[('time', 240),\n",
       " ('life', 194),\n",
       " ('room', 178),\n",
       " ('way', 169),\n",
       " ('world', 167),\n",
       " ('man', 164),\n",
       " ('day', 140),\n",
       " ('something', 135),\n",
       " ('woman', 131),\n",
       " ('thing', 114),\n",
       " ('nothing', 111),\n",
       " ('mind', 110),\n",
       " ('hand', 108),\n",
       " ('face', 108),\n",
       " ('course', 104),\n",
       " ('head', 104),\n",
       " ('side', 96),\n",
       " ('moment', 94),\n",
       " ('sea', 89),\n",
       " ('kind', 89)]"
      ]
     },
     "execution_count": 22,
     "metadata": {},
     "output_type": "execute_result"
    }
   ],
   "source": [
    "Counter(TheVoyageOutNN).most_common(20)"
   ]
  },
  {
   "cell_type": "markdown",
   "metadata": {},
   "source": [
    "Here shows that the most frequently used nouns in The Voyage Out are not that similar to Mansfield's as those Woolf's works from 1917-1923."
   ]
  },
  {
   "cell_type": "markdown",
   "metadata": {},
   "source": [
    "From the whole result, I assumed that the topics or the objects described in Virginia Woolf's works from 1917-1923 had a tendency of becoming more and more like Mansfield's works."
   ]
  },
  {
   "cell_type": "markdown",
   "metadata": {},
   "source": [
    "### POS ratio"
   ]
  },
  {
   "cell_type": "markdown",
   "metadata": {},
   "source": [
    "After the result of the test of stylometry, I  decided to only focus on Woolf's works from 1917 to 1923, which means I no longer studied The Voyage Out in 1915, because the result shows that especially in 1917-1925, Woolf's style might incline to become more and more similar to Mansfield's overall writing style."
   ]
  },
  {
   "cell_type": "code",
   "execution_count": 23,
   "metadata": {},
   "outputs": [],
   "source": [
    "df = pd.DataFrame([nightWposCounts,mondayWposCounts,jacobWposCounts,germanMposCounts,blissMposCounts,gardenMposCounts,WoolfposCounts,MansfieldposCounts], \n",
    "                          index = ['nightW','mondayW','jacobW','germanM','blissM','gardenM','WoolfAll','ManAll'])"
   ]
  },
  {
   "cell_type": "code",
   "execution_count": 24,
   "metadata": {},
   "outputs": [],
   "source": [
    "df = df.fillna(0).T"
   ]
  },
  {
   "cell_type": "code",
   "execution_count": 25,
   "metadata": {},
   "outputs": [],
   "source": [
    "df['nightWP'] = df['nightW'] / len(nightWTokens)\n",
    "df['mondayWP'] =df['mondayW'] / len(mondayWTokens)\n",
    "df['jacobP'] = df['jacobW'] / len(jacobWTokens)\n",
    "\n",
    "df['germanMP'] =df['germanM'] / len(germanMTokens)\n",
    "df['blissMP'] = df['blissM'] / len(blissMTokens)\n",
    "df['gardenMP'] =df['gardenM'] / len(gardenMTokens)\n",
    "df['WoolfAlP'] = df['WoolfAll'] / len(WoolfTokens)\n",
    "df['ManAllP'] =df['ManAll'] / len(MansfieldTokens)"
   ]
  },
  {
   "cell_type": "code",
   "execution_count": 26,
   "metadata": {},
   "outputs": [
    {
     "data": {
      "text/plain": [
       "<matplotlib.axes._subplots.AxesSubplot at 0x1a21ca9f98>"
      ]
     },
     "execution_count": 26,
     "metadata": {},
     "output_type": "execute_result"
    },
    {
     "data": {
      "image/png": "[encoded data removed]",
      "text/plain": [
       "<Figure size 720x432 with 1 Axes>"
      ]
     },
     "metadata": {},
     "output_type": "display_data"
    }
   ],
   "source": [
    "df[['nightWP','mondayWP','jacobP','ManAllP']].plot(kind='bar')"
   ]
  },
  {
   "cell_type": "markdown",
   "metadata": {},
   "source": [
    "The result shows that the proportion of NN(nouns) in Virginia Woolf's novels has a downward trend and it also getting closer to the proportion of NN in Mansfield's works. So as IN. Also, the proportion of “full stop” has a rising trend, which probably means the less use of “question mark” and “exclamation mark” and I would test it later. From these results, I supposed that Woolf's writing style was getting much more concise and clear at that time."
   ]
  },
  {
   "cell_type": "markdown",
   "metadata": {},
   "source": [
    "## hypothesis 2：\n",
    "###  Virginia Woolf’s writing style was getting much more concise and clear under the influence of Katherine Mansfield from 1917 to 1923."
   ]
  },
  {
   "cell_type": "markdown",
   "metadata": {},
   "source": [
    "### punctuation mark"
   ]
  },
  {
   "cell_type": "code",
   "execution_count": 27,
   "metadata": {},
   "outputs": [],
   "source": [
    "jacobWordsL = [word.lower() for word in jacobWTokens]\n",
    "mondayWordsL= [word.lower() for word in mondayWTokens]\n",
    "nightWordsL = [word.lower() for word in nightWTokens]\n",
    "germanWordsL = [word.lower() for word in germanMTokens]\n",
    "blissWordsL= [word.lower() for word in blissMTokens]\n",
    "gardenWordsL = [word.lower() for word in gardenMTokens]\n",
    "\n",
    "WoolfWordsL= [word.lower() for word in WoolfTokens]\n",
    "MansfieldWordsL = [word.lower() for word in MansfieldTokens]"
   ]
  },
  {
   "cell_type": "code",
   "execution_count": 28,
   "metadata": {},
   "outputs": [],
   "source": [
    "jacob1922Counts = Counter(jacobWordsL)\n",
    "monday1921Counts = Counter(mondayWordsL)\n",
    "night1919Counts = Counter(nightWordsL)\n",
    "german1911Counts = Counter(germanWordsL)\n",
    "bliss1920Counts = Counter(blissWordsL)\n",
    "garden1922Counts = Counter(gardenWordsL)\n",
    "\n",
    "WoolfCounts = Counter(WoolfWordsL)\n",
    "MansfieldCounts = Counter(MansfieldWordsL)"
   ]
  },
  {
   "cell_type": "code",
   "execution_count": 29,
   "metadata": {},
   "outputs": [
    {
     "data": {
      "text/plain": [
       "292"
      ]
     },
     "execution_count": 29,
     "metadata": {},
     "output_type": "execute_result"
    }
   ],
   "source": [
    "night1919Counts['!']"
   ]
  },
  {
   "cell_type": "code",
   "execution_count": 30,
   "metadata": {},
   "outputs": [
    {
     "data": {
      "text/plain": [
       "165"
      ]
     },
     "execution_count": 30,
     "metadata": {},
     "output_type": "execute_result"
    }
   ],
   "source": [
    "jacob1922Counts['!']"
   ]
  },
  {
   "cell_type": "code",
   "execution_count": 31,
   "metadata": {},
   "outputs": [
    {
     "data": {
      "text/plain": [
       "974"
      ]
     },
     "execution_count": 31,
     "metadata": {},
     "output_type": "execute_result"
    }
   ],
   "source": [
    "night1919Counts['?']"
   ]
  },
  {
   "cell_type": "code",
   "execution_count": 32,
   "metadata": {},
   "outputs": [
    {
     "data": {
      "text/plain": [
       "273"
      ]
     },
     "execution_count": 32,
     "metadata": {},
     "output_type": "execute_result"
    }
   ],
   "source": [
    "jacob1922Counts['?']"
   ]
  },
  {
   "cell_type": "markdown",
   "metadata": {},
   "source": [
    "The less use of question marks and exclamation marks means there are less emotional sentences in those works. These results support my hypothesis 2. Then I decided to see the changes in the sentence length in Woolf' works."
   ]
  },
  {
   "cell_type": "markdown",
   "metadata": {},
   "source": [
    "### Sentence Length"
   ]
  },
  {
   "cell_type": "code",
   "execution_count": 33,
   "metadata": {},
   "outputs": [],
   "source": [
    "nightWSentLens = [len(sent) for sent in sent_tokenize(nightW1919)]\n",
    "mondayWSentLens = [len(sent) for sent in sent_tokenize(mondayW1921)]\n",
    "jacobWSentLens = [len(sent) for sent in sent_tokenize(jacobW1922)]\n",
    "\n",
    "blissMSentLens = [len(sent) for sent in sent_tokenize(blissM1920)]\n",
    "gardenMSentLens = [len(sent) for sent in sent_tokenize(gardenM1922)]\n",
    "germanMSentLens = [len(sent) for sent in sent_tokenize(germanM1911)]"
   ]
  },
  {
   "cell_type": "code",
   "execution_count": 34,
   "metadata": {},
   "outputs": [],
   "source": [
    "def averageSentLen(text): \n",
    "    sentLengths = [len(sent) for sent in sent_tokenize(text)]\n",
    "    return sum(sentLengths)/len(sentLengths)"
   ]
  },
  {
   "cell_type": "code",
   "execution_count": 35,
   "metadata": {},
   "outputs": [
    {
     "data": {
      "text/plain": [
       "61.375097496986456"
      ]
     },
     "execution_count": 35,
     "metadata": {},
     "output_type": "execute_result"
    }
   ],
   "source": [
    "averageSentLen(blissM1920+gardenM1922+germanM1911)"
   ]
  },
  {
   "cell_type": "markdown",
   "metadata": {},
   "source": [
    "The average sentence length in Mansfield's works is much less than Woolf's."
   ]
  },
  {
   "cell_type": "code",
   "execution_count": 36,
   "metadata": {},
   "outputs": [
    {
     "data": {
      "text/plain": [
       "124.97163398692811"
      ]
     },
     "execution_count": 36,
     "metadata": {},
     "output_type": "execute_result"
    }
   ],
   "source": [
    "averageSentLen(nightW1919)"
   ]
  },
  {
   "cell_type": "code",
   "execution_count": 37,
   "metadata": {},
   "outputs": [
    {
     "data": {
      "text/plain": [
       "96.02299762093577"
      ]
     },
     "execution_count": 37,
     "metadata": {},
     "output_type": "execute_result"
    }
   ],
   "source": [
    "averageSentLen(mondayW1921)"
   ]
  },
  {
   "cell_type": "code",
   "execution_count": 38,
   "metadata": {},
   "outputs": [
    {
     "data": {
      "text/plain": [
       "93.0257644394111"
      ]
     },
     "execution_count": 38,
     "metadata": {},
     "output_type": "execute_result"
    }
   ],
   "source": [
    "averageSentLen(jacobW1922)"
   ]
  },
  {
   "cell_type": "markdown",
   "metadata": {},
   "source": [
    "The results show that the sentence length is getting less and less in Woolf's works. This result also supports my hypothesis 2 and shows that Woolf's writing style is getting much concise."
   ]
  },
  {
   "cell_type": "markdown",
   "metadata": {},
   "source": [
    "# Work cited\n",
    "\n",
    "Midorikawa, Emily., & Sweeney, Claire. Emma.  \"Katherine Mansfield, Virginia Woolf, and the Benefits of Jealous Friends\", October 16, 2017, https://www.theparisreview.org/blog/2017/10/16/katherine-mansfield-virginia-woolf-benefits-jealous-friends/\n"
   ]
  },
  {
   "cell_type": "markdown",
   "metadata": {},
   "source": [
    "### Wordcount Function\n",
    "\n",
    "Please replace `Yourname-Final.ipynb` with the filename of this notebook. For instance, if my name is Jonathan, and I've renamed this notebook to `Jonathan-Final.ipynb`, I'd change `filename = 'Yourname-Final.ipynb'` below to `filename = 'Jonathan-Final.ipynb`. "
   ]
  },
  {
   "cell_type": "code",
   "execution_count": 54,
   "metadata": {},
   "outputs": [
    {
     "name": "stdout",
     "output_type": "stream",
     "text": [
      "Total words: 1801\n"
     ]
    }
   ],
   "source": [
    "filename = 'Xiaoqing Chen-Final.ipynb'\n",
    "\n",
    "if filename == 'Yourname-Final.ipynb': \n",
    "    raise ValueError(\"You forgot to change the filename above!\")\n",
    "\n",
    "with open('Xiaoqing Chen-Final.ipynb', encoding='utf-8') as f:\n",
    "    nb = current.read(f, 'json')\n",
    "\n",
    "wordCount = 0\n",
    "\n",
    "for cell in nb.worksheets[0].cells:\n",
    "    if cell.cell_type == \"markdown\":\n",
    "        wordCount += len(cell['source'].replace('#', '').lstrip().split(' '))\n",
    "\n",
    "# This is the word count of my instructions. \n",
    "# My instructions obviously don't count toward the final word count, \n",
    "tare = 533\n",
    "\n",
    "wordCount = wordCount - tare\n",
    "\n",
    "print(\"Total words: {}\".format(wordCount))\n",
    "\n",
    "if wordCount < 1000: \n",
    "    raise Warning('Your paper has not yet met the minimum required length.')\n",
    "if wordCount > 2000: \n",
    "    raise Warning('Your paper has exceeded the maximum allowed length. Please edit for concision.')"
   ]
  },
  {
   "cell_type": "code",
   "execution_count": null,
   "metadata": {},
   "outputs": [],
   "source": []
  }
 ],
 "metadata": {
  "kernelspec": {
   "display_name": "Python 3",
   "language": "python",
   "name": "python3"
  },
  "language_info": {
   "codemirror_mode": {
    "name": "ipython",
    "version": 3
   },
   "file_extension": ".py",
   "mimetype": "text/x-python",
   "name": "python",
   "nbconvert_exporter": "python",
   "pygments_lexer": "ipython3",
   "version": "3.6.6"
  }
 },
 "nbformat": 4,
 "nbformat_minor": 2
}
